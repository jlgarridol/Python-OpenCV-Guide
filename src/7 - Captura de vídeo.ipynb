{
 "cells": [
  {
   "cell_type": "markdown",
   "metadata": {},
   "source": [
    "# Procesamiento de imagen y vídeo\n",
    "## Captura de vídeo\n",
    "###### _José Luis Garrido Labrador_"
   ]
  },
  {
   "cell_type": "code",
   "execution_count": 1,
   "metadata": {},
   "outputs": [],
   "source": [
    "#%matplotlib inline\n",
    "import cv2\n",
    "import numpy as np\n",
    "import matplotlib.pyplot as plt"
   ]
  },
  {
   "cell_type": "markdown",
   "metadata": {},
   "source": [
    "### Colormap en directo"
   ]
  },
  {
   "cell_type": "code",
   "execution_count": 2,
   "metadata": {},
   "outputs": [],
   "source": [
    "cap = cv2.VideoCapture(0)\n",
    "\n",
    "while(cap.isOpened()):\n",
    "    # Capture frame-by-frame\n",
    "    ret, frame = cap.read()\n",
    "    # Our operations on the frame come here\n",
    "    gray = cv2.cvtColor(frame, cv2.COLOR_BGR2GRAY)\n",
    "\n",
    "    # Display the resulting frame\n",
    "    cv2.imshow('frame',cv2.applyColorMap(gray,cv2.COLORMAP_HSV))\n",
    "    if cv2.waitKey(1) & 0xFF == ord('q'):\n",
    "        break\n",
    "\n",
    "# When everything done, release the capture\n",
    "cap.release()\n",
    "cv2.destroyAllWindows()\n",
    "\n"
   ]
  },
  {
   "cell_type": "markdown",
   "metadata": {},
   "source": [
    "### Threholding adaptativo"
   ]
  },
  {
   "cell_type": "code",
   "execution_count": 11,
   "metadata": {},
   "outputs": [],
   "source": [
    "cap = cv2.VideoCapture(0)\n",
    "\n",
    "while(cap.isOpened()):\n",
    "    # Capture frame-by-frame\n",
    "    ret, frame = cap.read()\n",
    "    # Our operations on the frame come here\n",
    "    gray = cv2.cvtColor(frame, cv2.COLOR_BGR2GRAY)\n",
    "    \n",
    "    gray = cv2.adaptiveThreshold(gray,255,cv2.ADAPTIVE_THRESH_GAUSSIAN_C,cv2.THRESH_BINARY,11,0)\n",
    "    gray = cv2.GaussianBlur(gray,(5,5),3)\n",
    "    \n",
    "    \n",
    "    h,s,v = cv2.split(cv2.cvtColor(frame,cv2.COLOR_BGR2HSV_FULL))\n",
    "    \n",
    "    final = cv2.merge((h,s,gray))\n",
    "    final = cv2.cvtColor(final, cv2.COLOR_HSV2BGR_FULL)\n",
    "    \n",
    "    # Display the resulting frame\n",
    "    cv2.imshow('frame',final)\n",
    "    if cv2.waitKey(1) & 0xFF == ord('q'):\n",
    "        break\n",
    "\n",
    "# When everything done, release the capture\n",
    "cap.release()\n",
    "cv2.destroyAllWindows()\n",
    "\n"
   ]
  },
  {
   "cell_type": "markdown",
   "metadata": {},
   "source": [
    "### Timelapse con temporizadores"
   ]
  },
  {
   "cell_type": "code",
   "execution_count": 4,
   "metadata": {},
   "outputs": [],
   "source": [
    "import threading\n",
    "\n",
    "def shot():\n",
    "    global cam,write,fps,total,veces\n",
    "    \n",
    "    _,frame = cam.read()\n",
    "    if _:\n",
    "        write.write(frame)\n",
    "        \n",
    "    veces += 1\n",
    "    if veces != total:\n",
    "        threading.Timer(fps, shot).start()\n",
    "    else:\n",
    "        cam.release()\n",
    "        write.release()\n",
    "               \n",
    "ac = 10 #Aceleracion\n",
    "fps = 24/ac #Cada cuanto tiempo hacer un frame\n",
    "t = 60 #Segundos\n",
    "total = int(t*fps) #Número de ejecuciones\n",
    "veces = 0\n",
    "\n",
    "cam = cv2.VideoCapture(0)\n",
    "\n",
    "fourcc = cv2.VideoWriter_fourcc('M','J','P','G')\n",
    "write = cv2.VideoWriter('salida.avi',fourcc,24.0,((int(cam.get(3)),int(cam.get(4)))))\n",
    "\n",
    "shot()\n",
    "\n"
   ]
  },
  {
   "cell_type": "code",
   "execution_count": null,
   "metadata": {},
   "outputs": [],
   "source": []
  }
 ],
 "metadata": {
  "kernelspec": {
   "display_name": "Python 3.7 (HAE)",
   "language": "python",
   "name": "hae"
  },
  "language_info": {
   "codemirror_mode": {
    "name": "ipython",
    "version": 3
   },
   "file_extension": ".py",
   "mimetype": "text/x-python",
   "name": "python",
   "nbconvert_exporter": "python",
   "pygments_lexer": "ipython3",
   "version": "3.7.2"
  }
 },
 "nbformat": 4,
 "nbformat_minor": 2
}
